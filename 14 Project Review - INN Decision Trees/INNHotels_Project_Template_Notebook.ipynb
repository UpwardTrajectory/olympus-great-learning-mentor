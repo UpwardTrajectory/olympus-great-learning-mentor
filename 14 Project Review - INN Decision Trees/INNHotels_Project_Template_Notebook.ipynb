{
 "cells": [
  {
   "cell_type": "markdown",
   "id": "AT5OogJVFbwu",
   "metadata": {
    "id": "AT5OogJVFbwu"
   },
   "source": [
    "# INN Hotels Project\n",
    "\n",
    "## Context\n",
    "\n",
    "A significant number of hotel bookings are called-off due to cancellations or no-shows. The typical reasons for cancellations include change of plans, scheduling conflicts, etc. This is often made easier by the option to do so free of charge or preferably at a low cost which is beneficial to hotel guests but it is a less desirable and possibly revenue-diminishing factor for hotels to deal with. Such losses are particularly high on last-minute cancellations. \n",
    "\n",
    "The new technologies involving online booking channels have dramatically changed customers’ booking possibilities and behavior. This adds a further dimension to the challenge of how hotels handle cancellations, which are no longer limited to traditional booking and guest characteristics. \n",
    "\n",
    "The cancellation of bookings impact a hotel on various fronts:\n",
    "* Loss of resources (revenue) when the hotel cannot resell the room.\n",
    "* Additional costs of distribution channels by increasing commissions or paying for publicity to help sell these rooms.\n",
    "* Lowering prices last minute, so the hotel can resell a room, resulting in reducing the profit margin.\n",
    "* Human resources to make arrangements for the guests.\n",
    "\n",
    "## Objective\n",
    "The increasing number of cancellations calls for a Machine Learning based solution that can help in predicting which booking is likely to be canceled. INN Hotels Group has a chain of hotels in Portugal, they are facing problems with the high number of booking cancellations and have reached out to your firm for data-driven solutions. You as a data scientist have to analyze the data provided to find which factors have a high influence on booking cancellations, build a predictive model that can predict which booking is going to be canceled in advance, and help in formulating profitable policies for cancellations and refunds.\n",
    "\n",
    "## Data Description\n",
    "The data contains the different attributes of customers' booking details. The detailed data dictionary is given below.\n",
    "\n",
    "\n",
    "**Data Dictionary**\n",
    "\n",
    "* Booking_ID: unique identifier of each booking\n",
    "* no_of_adults: Number of adults\n",
    "* no_of_children: Number of Children\n",
    "* no_of_weekend_nights: Number of weekend nights (Saturday or Sunday) the guest stayed or booked to stay at the hotel\n",
    "* no_of_week_nights: Number of week nights (Monday to Friday) the guest stayed or booked to stay at the hotel\n",
    "* type_of_meal_plan: Type of meal plan booked by the customer:\n",
    "    * Not Selected – No meal plan selected\n",
    "    * Meal Plan 1 – Breakfast\n",
    "    * Meal Plan 2 – Half board (breakfast and one other meal)\n",
    "    * Meal Plan 3 – Full board (breakfast, lunch, and dinner)\n",
    "* required_car_parking_space: Does the customer require a car parking space? (0 - No, 1- Yes)\n",
    "* room_type_reserved: Type of room reserved by the customer. The values are ciphered (encoded) by INN Hotels.\n",
    "* lead_time: Number of days between the date of booking and the arrival date\n",
    "* arrival_year: Year of arrival date\n",
    "* arrival_month: Month of arrival date\n",
    "* arrival_date: Date of the month\n",
    "* market_segment_type: Market segment designation.\n",
    "* repeated_guest: Is the customer a repeated guest? (0 - No, 1- Yes)\n",
    "* no_of_previous_cancellations: Number of previous bookings that were canceled by the customer prior to the current booking\n",
    "* no_of_previous_bookings_not_canceled: Number of previous bookings not canceled by the customer prior to the current booking\n",
    "* avg_price_per_room: Average price per day of the reservation; prices of the rooms are dynamic. (in euros)\n",
    "* no_of_special_requests: Total number of special requests made by the customer (e.g. high floor, view from the room, etc)\n",
    "* booking_status: Flag indicating if the booking was canceled or not."
   ]
  },
  {
   "cell_type": "markdown",
   "id": "dirty-island",
   "metadata": {
    "id": "dirty-island"
   },
   "source": [
    "## Importing necessary libraries and data"
   ]
  },
  {
   "cell_type": "code",
   "execution_count": null,
   "id": "statewide-still",
   "metadata": {
    "id": "statewide-still"
   },
   "outputs": [],
   "source": []
  },
  {
   "cell_type": "markdown",
   "id": "desperate-infection",
   "metadata": {
    "id": "desperate-infection"
   },
   "source": [
    "## Data Overview\n",
    "\n",
    "- Observations\n",
    "- Sanity checks"
   ]
  },
  {
   "cell_type": "code",
   "execution_count": null,
   "id": "persistent-juice",
   "metadata": {
    "id": "persistent-juice"
   },
   "outputs": [],
   "source": []
  },
  {
   "cell_type": "markdown",
   "id": "seasonal-calibration",
   "metadata": {
    "id": "seasonal-calibration"
   },
   "source": [
    "## Exploratory Data Analysis (EDA)\n",
    "\n",
    "- EDA is an important part of any project involving data.\n",
    "- It is important to investigate and understand the data better before building a model with it.\n",
    "- A few questions have been mentioned below which will help you approach the analysis in the right manner and generate insights from the data.\n",
    "- A thorough analysis of the data, in addition to the questions mentioned below, should be done."
   ]
  },
  {
   "cell_type": "markdown",
   "id": "classified-traveler",
   "metadata": {
    "id": "classified-traveler"
   },
   "source": [
    "**Questions**:\n",
    "1. What are the busiest months in the hotel?\n",
    "2. Which market segment do most of the guests come from?\n",
    "3. Hotel rates are dynamic and change according to demand and customer demographics. What are the differences in room prices in different market segments?\n",
    "4. What percentage of bookings are canceled? \n",
    "5. Repeating guests are the guests who stay in the hotel often and are important to brand equity. What percentage of repeating guests cancel?\n",
    "6. Many guests have special requirements when booking a hotel room. Do these requirements affect booking cancellation?"
   ]
  },
  {
   "cell_type": "code",
   "execution_count": null,
   "id": "mechanical-interference",
   "metadata": {
    "id": "mechanical-interference"
   },
   "outputs": [],
   "source": []
  },
  {
   "cell_type": "markdown",
   "id": "alleged-spirituality",
   "metadata": {
    "id": "alleged-spirituality"
   },
   "source": [
    "## Data Preprocessing\n",
    "\n",
    "- Missing value treatment (if needed)\n",
    "- Feature engineering (if needed)\n",
    "- Outlier detection and treatment (if needed)\n",
    "- Preparing data for modeling \n",
    "- Any other preprocessing steps (if needed)"
   ]
  },
  {
   "cell_type": "code",
   "execution_count": null,
   "id": "increasing-louisiana",
   "metadata": {
    "id": "increasing-louisiana"
   },
   "outputs": [],
   "source": []
  },
  {
   "cell_type": "markdown",
   "id": "difficult-union",
   "metadata": {
    "id": "difficult-union"
   },
   "source": [
    "## EDA\n",
    "\n",
    "- It is a good idea to explore the data once again after manipulating it."
   ]
  },
  {
   "cell_type": "code",
   "execution_count": null,
   "id": "interested-talent",
   "metadata": {
    "id": "interested-talent"
   },
   "outputs": [],
   "source": []
  },
  {
   "cell_type": "markdown",
   "id": "third-projection",
   "metadata": {
    "id": "third-projection"
   },
   "source": [
    "## Checking Multicollinearity\n",
    "\n",
    "- In order to make statistical inferences from a logistic regression model, it is important to ensure that there is no multicollinearity present in the data."
   ]
  },
  {
   "cell_type": "code",
   "execution_count": null,
   "id": "antique-payroll",
   "metadata": {
    "id": "antique-payroll"
   },
   "outputs": [],
   "source": []
  },
  {
   "cell_type": "markdown",
   "id": "domestic-iceland",
   "metadata": {
    "id": "domestic-iceland"
   },
   "source": [
    "## Building a Logistic Regression model"
   ]
  },
  {
   "cell_type": "code",
   "execution_count": null,
   "id": "unknown-institution",
   "metadata": {
    "id": "unknown-institution"
   },
   "outputs": [],
   "source": []
  },
  {
   "cell_type": "markdown",
   "id": "historic-season",
   "metadata": {
    "id": "historic-season"
   },
   "source": [
    "## Model performance evaluation"
   ]
  },
  {
   "cell_type": "code",
   "execution_count": null,
   "id": "integral-conservation",
   "metadata": {
    "id": "integral-conservation"
   },
   "outputs": [],
   "source": []
  },
  {
   "cell_type": "markdown",
   "id": "stylish-collaboration",
   "metadata": {
    "id": "stylish-collaboration"
   },
   "source": [
    "## Final Model Summary"
   ]
  },
  {
   "cell_type": "code",
   "execution_count": null,
   "id": "related-breathing",
   "metadata": {
    "id": "related-breathing"
   },
   "outputs": [],
   "source": []
  },
  {
   "cell_type": "markdown",
   "id": "amazing-fluid",
   "metadata": {
    "id": "amazing-fluid"
   },
   "source": [
    "## Building a Decision Tree model"
   ]
  },
  {
   "cell_type": "code",
   "execution_count": null,
   "id": "neither-hydrogen",
   "metadata": {
    "id": "neither-hydrogen"
   },
   "outputs": [],
   "source": []
  },
  {
   "cell_type": "markdown",
   "id": "limited-strengthening",
   "metadata": {
    "id": "limited-strengthening"
   },
   "source": [
    "## Do we need to prune the tree?"
   ]
  },
  {
   "cell_type": "code",
   "execution_count": null,
   "id": "ambient-elements",
   "metadata": {
    "id": "ambient-elements"
   },
   "outputs": [],
   "source": []
  },
  {
   "cell_type": "markdown",
   "id": "obvious-maine",
   "metadata": {
    "id": "obvious-maine"
   },
   "source": [
    "## Model Performance Comparison and Conclusions"
   ]
  },
  {
   "cell_type": "code",
   "execution_count": null,
   "id": "everyday-kinase",
   "metadata": {
    "id": "everyday-kinase"
   },
   "outputs": [],
   "source": []
  },
  {
   "cell_type": "markdown",
   "id": "nasty-retailer",
   "metadata": {
    "id": "nasty-retailer"
   },
   "source": [
    "## Actionable Insights and Recommendations\n",
    "\n",
    "- What profitable policies for cancellations and refunds can the hotel adopt?\n",
    "- What other recommedations would you suggest to the hotel?"
   ]
  },
  {
   "cell_type": "code",
   "execution_count": null,
   "id": "amino-prediction",
   "metadata": {
    "id": "amino-prediction"
   },
   "outputs": [],
   "source": []
  }
 ],
 "metadata": {
  "colab": {
   "name": "SLC_Project_Template_Notebook.ipynb",
   "provenance": []
  },
  "kernelspec": {
   "display_name": "Python 3",
   "language": "python",
   "name": "python3"
  },
  "language_info": {
   "codemirror_mode": {
    "name": "ipython",
    "version": 3
   },
   "file_extension": ".py",
   "mimetype": "text/x-python",
   "name": "python",
   "nbconvert_exporter": "python",
   "pygments_lexer": "ipython3",
   "version": "3.9.5"
  }
 },
 "nbformat": 4,
 "nbformat_minor": 5
}
